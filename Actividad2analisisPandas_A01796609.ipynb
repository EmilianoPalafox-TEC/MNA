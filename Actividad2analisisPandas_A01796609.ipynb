{
 "cells": [
  {
   "cell_type": "markdown",
   "metadata": {
    "id": "SML-04QQLd9l"
   },
   "source": [
    "**MAESTRÍA EN INTELIGENCIA ARTIFICIAL APLICADA**\n",
    "\n",
    "**Curso: TC4029 - Ciencia y analítica de datos**\n",
    "\n",
    "Tecnológico de Monterrey\n",
    "\n",
    "Prof Grettel Barceló Alonso\n",
    "\n",
    "**Semana 2**\n",
    "Pandas para el análisis de datos en Python\n",
    "\n",
    "---"
   ]
  },
  {
   "cell_type": "markdown",
   "metadata": {
    "id": "6q35__bSBB3G"
   },
   "source": [
    "*   NOMBRE: Emiliano Palafox Ruiz\n",
    "*   MATRÍCULA: A01796609\n"
   ]
  },
  {
   "cell_type": "markdown",
   "metadata": {
    "id": "AepY3wwtDXkc"
   },
   "source": [
    "---"
   ]
  },
  {
   "cell_type": "markdown",
   "metadata": {
    "id": "BumCtObqBqGr"
   },
   "source": [
    "En esta actividad usarás el archivo de datos `LaqnData.csv`. Cada fila de este conjunto de datos muestra un registro de medición, por hora, de uno de los siguientes cinco contaminantes del aire:\n",
    "\n",
    "*   `NO` (óxido nítrico)\n",
    "*   `NO2` (dióxido de nitrógeno)\n",
    "*   `NOX` (óxidos nitrosos)\n",
    "*   `PM10` (partículas suspendidas con un diámetro aerodinámico igual o menor a 10 micrómetros)\n",
    "*   `PM2.5` (partículas suspendidas con un diámetro aerodinámico igual o menor a 2.5 micrómetros)\n",
    "\n",
    "Los datos se recopilaron en una ubicación de Londres durante todo el año 2017.\n",
    "\n",
    "**NOTA IMPORTANTE:** Asegúrate de responder *explícitamente* todos los cuestionamientos.\n"
   ]
  },
  {
   "cell_type": "markdown",
   "metadata": {
    "id": "mqtTwAL3Mr44"
   },
   "source": [
    "1.\tDescarga el archivo: `LaqnData.csv` y guarda, en un dataframe (`air_df`), todos sus registros.\n",
    "*   Observa la estructura y contenido del dataframe con los atributos y métodos estudiados (`shape`, `columns`, `head()`, `tail()`, `dtypes`)\n",
    "*   Calcula el porcentaje de valores faltantes por columna."
   ]
  },
  {
   "cell_type": "code",
   "execution_count": 1,
   "metadata": {
    "id": "F5JognteLaJV"
   },
   "outputs": [],
   "source": [
    "import pandas as pd\n",
    "\n",
    "air_df = pd.read_csv('LaqnData.csv')"
   ]
  },
  {
   "cell_type": "code",
   "execution_count": 2,
   "metadata": {},
   "outputs": [
    {
     "name": "stdout",
     "output_type": "stream",
     "text": [
      "El dataframe tiene la siguiente forma: (43800, 6)\n"
     ]
    }
   ],
   "source": [
    "print(\"El dataframe tiene la siguiente forma:\", air_df.shape)"
   ]
  },
  {
   "cell_type": "code",
   "execution_count": 3,
   "metadata": {},
   "outputs": [
    {
     "name": "stdout",
     "output_type": "stream",
     "text": [
      "\n",
      "El nombre de las columnas del dataframe son:\n",
      " Index(['Site', 'Species', 'ReadingDateTime', 'Value', 'Units',\n",
      "       'Provisional or Ratified'],\n",
      "      dtype='object')\n"
     ]
    }
   ],
   "source": [
    "print(\"\\nEl nombre de las columnas del dataframe son:\\n\",  air_df.columns)"
   ]
  },
  {
   "cell_type": "code",
   "execution_count": 4,
   "metadata": {},
   "outputs": [
    {
     "name": "stdout",
     "output_type": "stream",
     "text": [
      "\n",
      "Los primeros 5 registros del dataframe son:\n"
     ]
    },
    {
     "data": {
      "text/html": [
       "<div>\n",
       "<style scoped>\n",
       "    .dataframe tbody tr th:only-of-type {\n",
       "        vertical-align: middle;\n",
       "    }\n",
       "\n",
       "    .dataframe tbody tr th {\n",
       "        vertical-align: top;\n",
       "    }\n",
       "\n",
       "    .dataframe thead th {\n",
       "        text-align: right;\n",
       "    }\n",
       "</style>\n",
       "<table border=\"1\" class=\"dataframe\">\n",
       "  <thead>\n",
       "    <tr style=\"text-align: right;\">\n",
       "      <th></th>\n",
       "      <th>Site</th>\n",
       "      <th>Species</th>\n",
       "      <th>ReadingDateTime</th>\n",
       "      <th>Value</th>\n",
       "      <th>Units</th>\n",
       "      <th>Provisional or Ratified</th>\n",
       "    </tr>\n",
       "  </thead>\n",
       "  <tbody>\n",
       "    <tr>\n",
       "      <th>0</th>\n",
       "      <td>CT3</td>\n",
       "      <td>NO</td>\n",
       "      <td>01/01/2017 00:00</td>\n",
       "      <td>3.5</td>\n",
       "      <td>ug m-3</td>\n",
       "      <td>R</td>\n",
       "    </tr>\n",
       "    <tr>\n",
       "      <th>1</th>\n",
       "      <td>CT3</td>\n",
       "      <td>NO</td>\n",
       "      <td>01/01/2017 01:00</td>\n",
       "      <td>3.6</td>\n",
       "      <td>ug m-3</td>\n",
       "      <td>R</td>\n",
       "    </tr>\n",
       "    <tr>\n",
       "      <th>2</th>\n",
       "      <td>CT3</td>\n",
       "      <td>NO</td>\n",
       "      <td>01/01/2017 02:00</td>\n",
       "      <td>2.2</td>\n",
       "      <td>ug m-3</td>\n",
       "      <td>R</td>\n",
       "    </tr>\n",
       "    <tr>\n",
       "      <th>3</th>\n",
       "      <td>CT3</td>\n",
       "      <td>NO</td>\n",
       "      <td>01/01/2017 03:00</td>\n",
       "      <td>2.1</td>\n",
       "      <td>ug m-3</td>\n",
       "      <td>R</td>\n",
       "    </tr>\n",
       "    <tr>\n",
       "      <th>4</th>\n",
       "      <td>CT3</td>\n",
       "      <td>NO</td>\n",
       "      <td>01/01/2017 04:00</td>\n",
       "      <td>3.3</td>\n",
       "      <td>ug m-3</td>\n",
       "      <td>R</td>\n",
       "    </tr>\n",
       "  </tbody>\n",
       "</table>\n",
       "</div>"
      ],
      "text/plain": [
       "  Site Species   ReadingDateTime  Value   Units Provisional or Ratified\n",
       "0  CT3      NO  01/01/2017 00:00    3.5  ug m-3                       R\n",
       "1  CT3      NO  01/01/2017 01:00    3.6  ug m-3                       R\n",
       "2  CT3      NO  01/01/2017 02:00    2.2  ug m-3                       R\n",
       "3  CT3      NO  01/01/2017 03:00    2.1  ug m-3                       R\n",
       "4  CT3      NO  01/01/2017 04:00    3.3  ug m-3                       R"
      ]
     },
     "execution_count": 4,
     "metadata": {},
     "output_type": "execute_result"
    }
   ],
   "source": [
    "print(\"\\nLos primeros 5 registros del dataframe son:\")\n",
    "air_df.head()"
   ]
  },
  {
   "cell_type": "code",
   "execution_count": 5,
   "metadata": {},
   "outputs": [
    {
     "name": "stdout",
     "output_type": "stream",
     "text": [
      "\n",
      "Los últimos 5 registros del dataframe son:\n"
     ]
    },
    {
     "data": {
      "text/html": [
       "<div>\n",
       "<style scoped>\n",
       "    .dataframe tbody tr th:only-of-type {\n",
       "        vertical-align: middle;\n",
       "    }\n",
       "\n",
       "    .dataframe tbody tr th {\n",
       "        vertical-align: top;\n",
       "    }\n",
       "\n",
       "    .dataframe thead th {\n",
       "        text-align: right;\n",
       "    }\n",
       "</style>\n",
       "<table border=\"1\" class=\"dataframe\">\n",
       "  <thead>\n",
       "    <tr style=\"text-align: right;\">\n",
       "      <th></th>\n",
       "      <th>Site</th>\n",
       "      <th>Species</th>\n",
       "      <th>ReadingDateTime</th>\n",
       "      <th>Value</th>\n",
       "      <th>Units</th>\n",
       "      <th>Provisional or Ratified</th>\n",
       "    </tr>\n",
       "  </thead>\n",
       "  <tbody>\n",
       "    <tr>\n",
       "      <th>43795</th>\n",
       "      <td>CT3</td>\n",
       "      <td>PM2.5</td>\n",
       "      <td>31/12/2017 19:00</td>\n",
       "      <td>-2.0</td>\n",
       "      <td>ug m-3</td>\n",
       "      <td>R</td>\n",
       "    </tr>\n",
       "    <tr>\n",
       "      <th>43796</th>\n",
       "      <td>CT3</td>\n",
       "      <td>PM2.5</td>\n",
       "      <td>31/12/2017 20:00</td>\n",
       "      <td>6.0</td>\n",
       "      <td>ug m-3</td>\n",
       "      <td>R</td>\n",
       "    </tr>\n",
       "    <tr>\n",
       "      <th>43797</th>\n",
       "      <td>CT3</td>\n",
       "      <td>PM2.5</td>\n",
       "      <td>31/12/2017 21:00</td>\n",
       "      <td>5.0</td>\n",
       "      <td>ug m-3</td>\n",
       "      <td>R</td>\n",
       "    </tr>\n",
       "    <tr>\n",
       "      <th>43798</th>\n",
       "      <td>CT3</td>\n",
       "      <td>PM2.5</td>\n",
       "      <td>31/12/2017 22:00</td>\n",
       "      <td>5.0</td>\n",
       "      <td>ug m-3</td>\n",
       "      <td>R</td>\n",
       "    </tr>\n",
       "    <tr>\n",
       "      <th>43799</th>\n",
       "      <td>CT3</td>\n",
       "      <td>PM2.5</td>\n",
       "      <td>31/12/2017 23:00</td>\n",
       "      <td>6.0</td>\n",
       "      <td>ug m-3</td>\n",
       "      <td>R</td>\n",
       "    </tr>\n",
       "  </tbody>\n",
       "</table>\n",
       "</div>"
      ],
      "text/plain": [
       "      Site Species   ReadingDateTime  Value   Units Provisional or Ratified\n",
       "43795  CT3   PM2.5  31/12/2017 19:00   -2.0  ug m-3                       R\n",
       "43796  CT3   PM2.5  31/12/2017 20:00    6.0  ug m-3                       R\n",
       "43797  CT3   PM2.5  31/12/2017 21:00    5.0  ug m-3                       R\n",
       "43798  CT3   PM2.5  31/12/2017 22:00    5.0  ug m-3                       R\n",
       "43799  CT3   PM2.5  31/12/2017 23:00    6.0  ug m-3                       R"
      ]
     },
     "execution_count": 5,
     "metadata": {},
     "output_type": "execute_result"
    }
   ],
   "source": [
    "print(\"\\nLos últimos 5 registros del dataframe son:\") \n",
    "air_df.tail()"
   ]
  },
  {
   "cell_type": "code",
   "execution_count": 6,
   "metadata": {},
   "outputs": [
    {
     "name": "stdout",
     "output_type": "stream",
     "text": [
      "\n",
      "Tipos de datos por columna:\n",
      " Site                        object\n",
      "Species                     object\n",
      "ReadingDateTime             object\n",
      "Value                      float64\n",
      "Units                       object\n",
      "Provisional or Ratified     object\n",
      "dtype: object\n"
     ]
    }
   ],
   "source": [
    "print(\"\\nTipos de datos por columna:\\n\",air_df.dtypes)"
   ]
  },
  {
   "cell_type": "code",
   "execution_count": 7,
   "metadata": {},
   "outputs": [
    {
     "name": "stdout",
     "output_type": "stream",
     "text": [
      "\n",
      "Porcentaje de valores faltantes por columna:\n",
      " Site                       0.000000\n",
      "Species                    0.000000\n",
      "ReadingDateTime            0.000000\n",
      "Value                      7.374429\n",
      "Units                      0.000000\n",
      "Provisional or Ratified    0.000000\n",
      "dtype: float64\n"
     ]
    }
   ],
   "source": [
    "percentage = (air_df.isnull().sum()/len(air_df))*100\n",
    "print(\"\\nPorcentaje de valores faltantes por columna:\\n\", percentage)"
   ]
  },
  {
   "cell_type": "markdown",
   "metadata": {
    "id": "APrlS185Cw-K"
   },
   "source": [
    "2.\tObtén la cantidad de valores únicos por columna (`nunique()`) para responder:\n",
    "\n",
    "\n",
    "*   ¿Cuántas mediciones se hicieron?\n",
    "*   ¿Cuántos contaminantes del aire (`Species`) se analizaron?\n",
    "*   ¿Qué columnas no agregan ningún valor informativo porque el mismo valor en todo el conjunto de datos? Elimínalas del dataframe.\n",
    "*   La columna `Units` tampoco posee valor informativo. Verifícalo con la función `unique()` y elimínala del dataframe."
   ]
  },
  {
   "cell_type": "code",
   "execution_count": 8,
   "metadata": {
    "id": "Ke0EGLVaCwm6"
   },
   "outputs": [
    {
     "name": "stdout",
     "output_type": "stream",
     "text": [
      "Se hicieron un total de 43800 mediciones\n"
     ]
    }
   ],
   "source": [
    "num_mediciones = air_df.groupby('ReadingDateTime')['Species'].nunique().sum()\n",
    "print(f\"Se hicieron un total de {num_mediciones} mediciones\")"
   ]
  },
  {
   "cell_type": "code",
   "execution_count": 9,
   "metadata": {},
   "outputs": [
    {
     "name": "stdout",
     "output_type": "stream",
     "text": [
      "Número de contaminantes encontrados: 5\n",
      "Los contaminantes encontrados fueron: ['NO' 'NO2' 'NOX' 'PM10' 'PM2.5']\n"
     ]
    }
   ],
   "source": [
    "num_species = air_df['Species'].nunique()\n",
    "print(f\"Número de contaminantes encontrados: {num_species}\")\n",
    "unique_species = air_df['Species'].unique()\n",
    "print(f\"Los contaminantes encontrados fueron: {unique_species}\")"
   ]
  },
  {
   "cell_type": "code",
   "execution_count": 10,
   "metadata": {},
   "outputs": [
    {
     "name": "stdout",
     "output_type": "stream",
     "text": [
      "Las columnas que tienen exactamente el mismo valor son: ['Site', 'Provisional or Ratified']\n"
     ]
    }
   ],
   "source": [
    "columns_equal = []\n",
    "for col in air_df.columns:\n",
    "    if air_df[col].nunique() == 1:\n",
    "        columns_equal.append(col)\n",
    "        \n",
    "print(f\"Las columnas que tienen exactamente el mismo valor son: {columns_equal}\")"
   ]
  },
  {
   "cell_type": "markdown",
   "metadata": {},
   "source": [
    "Borramos las columnas 'Site' y 'Provisional or Ratified' pues poseen el mismo valor en todo el conjunto de datos"
   ]
  },
  {
   "cell_type": "code",
   "execution_count": 11,
   "metadata": {},
   "outputs": [],
   "source": [
    "air_df = air_df.drop(['Site', 'Provisional or Ratified'], axis=1)"
   ]
  },
  {
   "cell_type": "code",
   "execution_count": 12,
   "metadata": {},
   "outputs": [
    {
     "data": {
      "text/html": [
       "<div>\n",
       "<style scoped>\n",
       "    .dataframe tbody tr th:only-of-type {\n",
       "        vertical-align: middle;\n",
       "    }\n",
       "\n",
       "    .dataframe tbody tr th {\n",
       "        vertical-align: top;\n",
       "    }\n",
       "\n",
       "    .dataframe thead th {\n",
       "        text-align: right;\n",
       "    }\n",
       "</style>\n",
       "<table border=\"1\" class=\"dataframe\">\n",
       "  <thead>\n",
       "    <tr style=\"text-align: right;\">\n",
       "      <th></th>\n",
       "      <th>Species</th>\n",
       "      <th>ReadingDateTime</th>\n",
       "      <th>Value</th>\n",
       "      <th>Units</th>\n",
       "    </tr>\n",
       "  </thead>\n",
       "  <tbody>\n",
       "    <tr>\n",
       "      <th>0</th>\n",
       "      <td>NO</td>\n",
       "      <td>01/01/2017 00:00</td>\n",
       "      <td>3.5</td>\n",
       "      <td>ug m-3</td>\n",
       "    </tr>\n",
       "    <tr>\n",
       "      <th>1</th>\n",
       "      <td>NO</td>\n",
       "      <td>01/01/2017 01:00</td>\n",
       "      <td>3.6</td>\n",
       "      <td>ug m-3</td>\n",
       "    </tr>\n",
       "    <tr>\n",
       "      <th>2</th>\n",
       "      <td>NO</td>\n",
       "      <td>01/01/2017 02:00</td>\n",
       "      <td>2.2</td>\n",
       "      <td>ug m-3</td>\n",
       "    </tr>\n",
       "    <tr>\n",
       "      <th>3</th>\n",
       "      <td>NO</td>\n",
       "      <td>01/01/2017 03:00</td>\n",
       "      <td>2.1</td>\n",
       "      <td>ug m-3</td>\n",
       "    </tr>\n",
       "    <tr>\n",
       "      <th>4</th>\n",
       "      <td>NO</td>\n",
       "      <td>01/01/2017 04:00</td>\n",
       "      <td>3.3</td>\n",
       "      <td>ug m-3</td>\n",
       "    </tr>\n",
       "  </tbody>\n",
       "</table>\n",
       "</div>"
      ],
      "text/plain": [
       "  Species   ReadingDateTime  Value   Units\n",
       "0      NO  01/01/2017 00:00    3.5  ug m-3\n",
       "1      NO  01/01/2017 01:00    3.6  ug m-3\n",
       "2      NO  01/01/2017 02:00    2.2  ug m-3\n",
       "3      NO  01/01/2017 03:00    2.1  ug m-3\n",
       "4      NO  01/01/2017 04:00    3.3  ug m-3"
      ]
     },
     "execution_count": 12,
     "metadata": {},
     "output_type": "execute_result"
    }
   ],
   "source": [
    "air_df.head()"
   ]
  },
  {
   "cell_type": "code",
   "execution_count": 13,
   "metadata": {},
   "outputs": [
    {
     "name": "stdout",
     "output_type": "stream",
     "text": [
      "Valores únicos en la columna 'Units': ['ug m-3' 'ug m-3 as NO2' 'ug/m3']\n"
     ]
    }
   ],
   "source": [
    "unique_units = air_df['Units'].unique()\n",
    "print(f\"Valores únicos en la columna 'Units': {unique_units}\")"
   ]
  },
  {
   "cell_type": "markdown",
   "metadata": {},
   "source": [
    "La columna `'Units'` poseé tres categorías, sin embargo si observamos a detalle podemos identificar que esta variable no aporta valor al ser la misma categoría pero con distinto formato por lo que podemos eliminarla."
   ]
  },
  {
   "cell_type": "code",
   "execution_count": 14,
   "metadata": {},
   "outputs": [],
   "source": [
    "air_df = air_df.drop('Units', axis=1)"
   ]
  },
  {
   "cell_type": "markdown",
   "metadata": {
    "id": "zEddCwHWEJZ7"
   },
   "source": [
    "3.\tRealiza el conteo de valores por categoría (`value_counts()`) para la columna `Species` y determina si las lecturas de cada contaminante coincide con el total de mediciones."
   ]
  },
  {
   "cell_type": "code",
   "execution_count": 15,
   "metadata": {
    "id": "inCKasmZEPsv"
   },
   "outputs": [
    {
     "data": {
      "text/plain": [
       "Species\n",
       "NO       8760\n",
       "NO2      8760\n",
       "NOX      8760\n",
       "PM10     8760\n",
       "PM2.5    8760\n",
       "Name: count, dtype: int64"
      ]
     },
     "execution_count": 15,
     "metadata": {},
     "output_type": "execute_result"
    }
   ],
   "source": [
    "air_df['Species'].value_counts()"
   ]
  },
  {
   "cell_type": "markdown",
   "metadata": {},
   "source": [
    "El número total de mediciones es de 43,800 valores, y cada valor de la columna Species cuenta con 8,760 registros. Si multiplicamos 8,760 por 5 obtendremos el total de 43,800 observaciones"
   ]
  },
  {
   "cell_type": "markdown",
   "metadata": {
    "id": "zhJM6l1vETfI"
   },
   "source": [
    "4.\tUtiliza la función `groupby()` para determinar el promedio del valor por contaminante."
   ]
  },
  {
   "cell_type": "code",
   "execution_count": 16,
   "metadata": {
    "id": "zstyHahSETJK"
   },
   "outputs": [
    {
     "name": "stdout",
     "output_type": "stream",
     "text": [
      "Promedio del valor por contaminante:\n",
      "Species\n",
      "NO       15.045115\n",
      "NO2      38.010185\n",
      "NOX      61.078661\n",
      "PM10     22.551704\n",
      "PM2.5    14.999831\n",
      "Name: Value, dtype: float64\n"
     ]
    }
   ],
   "source": [
    "mean_species = air_df.groupby('Species')['Value'].mean()\n",
    "\n",
    "print(\"Promedio del valor por contaminante:\")\n",
    "print(mean_species)"
   ]
  },
  {
   "cell_type": "markdown",
   "metadata": {
    "id": "GY2ux-Q_EV7J"
   },
   "source": [
    "5.\tEl conjunto de datos está en un formato largo. Aplique la función apropiada para cambiarlo al formato ancho (`ReadingDateTime` como índice y cada contaminante en una columna). Nombre el dataframe resultante como `pvt_df`."
   ]
  },
  {
   "cell_type": "code",
   "execution_count": 17,
   "metadata": {
    "id": "1IETxb9vFIF-"
   },
   "outputs": [
    {
     "name": "stdout",
     "output_type": "stream",
     "text": [
      "\n",
      "Dataframe en formato largo (pvt_df):\n"
     ]
    },
    {
     "data": {
      "text/html": [
       "<div>\n",
       "<style scoped>\n",
       "    .dataframe tbody tr th:only-of-type {\n",
       "        vertical-align: middle;\n",
       "    }\n",
       "\n",
       "    .dataframe tbody tr th {\n",
       "        vertical-align: top;\n",
       "    }\n",
       "\n",
       "    .dataframe thead th {\n",
       "        text-align: right;\n",
       "    }\n",
       "</style>\n",
       "<table border=\"1\" class=\"dataframe\">\n",
       "  <thead>\n",
       "    <tr style=\"text-align: right;\">\n",
       "      <th>Species</th>\n",
       "      <th>NO</th>\n",
       "      <th>NO2</th>\n",
       "      <th>NOX</th>\n",
       "      <th>PM10</th>\n",
       "      <th>PM2.5</th>\n",
       "    </tr>\n",
       "    <tr>\n",
       "      <th>ReadingDateTime</th>\n",
       "      <th></th>\n",
       "      <th></th>\n",
       "      <th></th>\n",
       "      <th></th>\n",
       "      <th></th>\n",
       "    </tr>\n",
       "  </thead>\n",
       "  <tbody>\n",
       "    <tr>\n",
       "      <th>01/01/2017 00:00</th>\n",
       "      <td>3.5</td>\n",
       "      <td>30.8</td>\n",
       "      <td>36.2</td>\n",
       "      <td>35.7</td>\n",
       "      <td>NaN</td>\n",
       "    </tr>\n",
       "    <tr>\n",
       "      <th>01/01/2017 01:00</th>\n",
       "      <td>3.6</td>\n",
       "      <td>31.5</td>\n",
       "      <td>37.0</td>\n",
       "      <td>28.5</td>\n",
       "      <td>NaN</td>\n",
       "    </tr>\n",
       "    <tr>\n",
       "      <th>01/01/2017 02:00</th>\n",
       "      <td>2.2</td>\n",
       "      <td>27.3</td>\n",
       "      <td>30.7</td>\n",
       "      <td>22.7</td>\n",
       "      <td>NaN</td>\n",
       "    </tr>\n",
       "    <tr>\n",
       "      <th>01/01/2017 03:00</th>\n",
       "      <td>2.1</td>\n",
       "      <td>23.5</td>\n",
       "      <td>26.8</td>\n",
       "      <td>20.5</td>\n",
       "      <td>NaN</td>\n",
       "    </tr>\n",
       "    <tr>\n",
       "      <th>01/01/2017 04:00</th>\n",
       "      <td>3.3</td>\n",
       "      <td>28.0</td>\n",
       "      <td>33.0</td>\n",
       "      <td>22.1</td>\n",
       "      <td>NaN</td>\n",
       "    </tr>\n",
       "  </tbody>\n",
       "</table>\n",
       "</div>"
      ],
      "text/plain": [
       "Species            NO   NO2   NOX  PM10  PM2.5\n",
       "ReadingDateTime                               \n",
       "01/01/2017 00:00  3.5  30.8  36.2  35.7    NaN\n",
       "01/01/2017 01:00  3.6  31.5  37.0  28.5    NaN\n",
       "01/01/2017 02:00  2.2  27.3  30.7  22.7    NaN\n",
       "01/01/2017 03:00  2.1  23.5  26.8  20.5    NaN\n",
       "01/01/2017 04:00  3.3  28.0  33.0  22.1    NaN"
      ]
     },
     "execution_count": 17,
     "metadata": {},
     "output_type": "execute_result"
    }
   ],
   "source": [
    "pvt_df = air_df.pivot(index='ReadingDateTime', columns='Species', values='Value')\n",
    "\n",
    "print(\"\\nDataframe en formato largo (pvt_df):\")\n",
    "pvt_df.head()"
   ]
  },
  {
   "cell_type": "markdown",
   "metadata": {
    "id": "JmbiBXqFFIZx"
   },
   "source": [
    "6.\tA través de la función `describe()` responde:\n",
    "\n",
    "*   ¿Cuál es el mayor valor de `NO2` registrado? ¿A qué día pertenece?\n",
    "*   ¿Cuál es el menor valor de `PM10` registrado?¿A qué día pertenece?\n",
    "*   ¿Cuál es la mediana del `NO`? ¿Cómo se interpreta?\n",
    "*   ¿Cuál es el primer cuartil de `PM2.5`? ¿Qué significa?"
   ]
  },
  {
   "cell_type": "code",
   "execution_count": 18,
   "metadata": {
    "id": "_qWYoEx3Fbod"
   },
   "outputs": [
    {
     "data": {
      "text/html": [
       "<div>\n",
       "<style scoped>\n",
       "    .dataframe tbody tr th:only-of-type {\n",
       "        vertical-align: middle;\n",
       "    }\n",
       "\n",
       "    .dataframe tbody tr th {\n",
       "        vertical-align: top;\n",
       "    }\n",
       "\n",
       "    .dataframe thead th {\n",
       "        text-align: right;\n",
       "    }\n",
       "</style>\n",
       "<table border=\"1\" class=\"dataframe\">\n",
       "  <thead>\n",
       "    <tr style=\"text-align: right;\">\n",
       "      <th>Species</th>\n",
       "      <th>NO</th>\n",
       "      <th>NO2</th>\n",
       "      <th>NOX</th>\n",
       "      <th>PM10</th>\n",
       "      <th>PM2.5</th>\n",
       "    </tr>\n",
       "  </thead>\n",
       "  <tbody>\n",
       "    <tr>\n",
       "      <th>count</th>\n",
       "      <td>8660.000000</td>\n",
       "      <td>8660.000000</td>\n",
       "      <td>8660.000000</td>\n",
       "      <td>8657.000000</td>\n",
       "      <td>5933.000000</td>\n",
       "    </tr>\n",
       "    <tr>\n",
       "      <th>mean</th>\n",
       "      <td>15.045115</td>\n",
       "      <td>38.010185</td>\n",
       "      <td>61.078661</td>\n",
       "      <td>22.551704</td>\n",
       "      <td>14.999831</td>\n",
       "    </tr>\n",
       "    <tr>\n",
       "      <th>std</th>\n",
       "      <td>26.678565</td>\n",
       "      <td>18.580841</td>\n",
       "      <td>54.584805</td>\n",
       "      <td>15.344755</td>\n",
       "      <td>13.558588</td>\n",
       "    </tr>\n",
       "    <tr>\n",
       "      <th>min</th>\n",
       "      <td>-2.000000</td>\n",
       "      <td>2.800000</td>\n",
       "      <td>1.000000</td>\n",
       "      <td>-5.600000</td>\n",
       "      <td>-8.000000</td>\n",
       "    </tr>\n",
       "    <tr>\n",
       "      <th>25%</th>\n",
       "      <td>3.100000</td>\n",
       "      <td>23.800000</td>\n",
       "      <td>30.300000</td>\n",
       "      <td>13.900000</td>\n",
       "      <td>7.000000</td>\n",
       "    </tr>\n",
       "    <tr>\n",
       "      <th>50%</th>\n",
       "      <td>7.100000</td>\n",
       "      <td>35.300000</td>\n",
       "      <td>46.900000</td>\n",
       "      <td>19.500000</td>\n",
       "      <td>11.000000</td>\n",
       "    </tr>\n",
       "    <tr>\n",
       "      <th>75%</th>\n",
       "      <td>15.500000</td>\n",
       "      <td>49.900000</td>\n",
       "      <td>73.800000</td>\n",
       "      <td>27.300000</td>\n",
       "      <td>18.000000</td>\n",
       "    </tr>\n",
       "    <tr>\n",
       "      <th>max</th>\n",
       "      <td>401.799990</td>\n",
       "      <td>120.200000</td>\n",
       "      <td>734.299990</td>\n",
       "      <td>633.099980</td>\n",
       "      <td>128.000000</td>\n",
       "    </tr>\n",
       "  </tbody>\n",
       "</table>\n",
       "</div>"
      ],
      "text/plain": [
       "Species           NO          NO2          NOX         PM10        PM2.5\n",
       "count    8660.000000  8660.000000  8660.000000  8657.000000  5933.000000\n",
       "mean       15.045115    38.010185    61.078661    22.551704    14.999831\n",
       "std        26.678565    18.580841    54.584805    15.344755    13.558588\n",
       "min        -2.000000     2.800000     1.000000    -5.600000    -8.000000\n",
       "25%         3.100000    23.800000    30.300000    13.900000     7.000000\n",
       "50%         7.100000    35.300000    46.900000    19.500000    11.000000\n",
       "75%        15.500000    49.900000    73.800000    27.300000    18.000000\n",
       "max       401.799990   120.200000   734.299990   633.099980   128.000000"
      ]
     },
     "execution_count": 18,
     "metadata": {},
     "output_type": "execute_result"
    }
   ],
   "source": [
    "pvt_df.describe()"
   ]
  },
  {
   "cell_type": "markdown",
   "metadata": {},
   "source": [
    "* La mayor cantidad de `NO2` registrado fue de 120.200000\n",
    "* La menor cantidad de `PM10` registrado fue de -5.600000\n",
    "* La mediana del `N0` es de 7.100000\n",
    "* El primer cuartil del `PM2.5` es de 7.000000"
   ]
  },
  {
   "cell_type": "code",
   "execution_count": 19,
   "metadata": {},
   "outputs": [
    {
     "name": "stdout",
     "output_type": "stream",
     "text": [
      "Registro con el valor máximo de NO2:\n",
      "     Species   ReadingDateTime  Value\n",
      "9331     NO2  24/01/2017 19:00  120.2\n"
     ]
    }
   ],
   "source": [
    "max_NO2 = air_df[(air_df['Species'] == 'NO2') & (air_df['Value'] == 120.200000)]\n",
    "\n",
    "print(\"Registro con el valor máximo de NO2:\")\n",
    "print(max_NO2)"
   ]
  },
  {
   "cell_type": "code",
   "execution_count": 20,
   "metadata": {},
   "outputs": [
    {
     "name": "stdout",
     "output_type": "stream",
     "text": [
      "Registro con el valor mínimo de PM10:\n",
      "      Species   ReadingDateTime  Value\n",
      "32399    PM10  12/09/2017 23:00   -5.6\n"
     ]
    }
   ],
   "source": [
    "min_PM10 = air_df[(air_df['Species'] == 'PM10') & (air_df['Value'] == -5.600000)]\n",
    "\n",
    "print(\"Registro con el valor mínimo de PM10:\")\n",
    "print(min_PM10)"
   ]
  },
  {
   "cell_type": "markdown",
   "metadata": {},
   "source": [
    "* #### La mediana del NO es de 7.1000. \n",
    "Este valor representa el punto exacto que divide la mitad de los datos, cómo podemos observar el valor máximo de esta variable es 401.799, por lo que, gracias a la mediana podemos inferir que hay outliers.\n",
    "* #### El primer cuartil del PM2.5 es de 7.00:\n",
    "Lo que nos indica que el 25% de las observaciones son menores o iguales a 7.00."
   ]
  },
  {
   "cell_type": "markdown",
   "metadata": {
    "id": "Rki16hYaFd9p"
   },
   "source": [
    "7.\tDibuja un histograma para cada columna de `pvt_df`. ¿Qué contaminante tiene mayor variabilidad?"
   ]
  },
  {
   "cell_type": "code",
   "execution_count": 21,
   "metadata": {},
   "outputs": [
    {
     "data": {
      "image/png": "[encoded data removed]",
      "text/plain": [
       "<Figure size 1500x1000 with 5 Axes>"
      ]
     },
     "metadata": {},
     "output_type": "display_data"
    }
   ],
   "source": [
    "import matplotlib.pyplot as plt\n",
    "import seaborn as sns\n",
    "\n",
    "plt.figure(figsize=(15, 10)) \n",
    "\n",
    "for i, column in enumerate(pvt_df.columns):\n",
    "    plt.subplot(2, 3, i + 1)  \n",
    "    sns.histplot(pvt_df[column], kde=True, bins=100)\n",
    "    plt.title(f\"Histograma de {column}\")\n",
    "    plt.xlabel('Valor')\n",
    "    plt.ylabel('Frecuencia')\n",
    "\n",
    "plt.tight_layout()\n",
    "plt.show()"
   ]
  },
  {
   "cell_type": "markdown",
   "metadata": {
    "id": "NaGkunSeFfn8"
   },
   "source": [
    "A través de los histogramas podemos darnos cuenta que la variable que presenta mayor variabilidad es la `N02`, esto debido a que su distribución cubre un rango más amplio de valores. \n",
    "\n",
    "Cabe recalcar que el resto de variables muestran un claro sesgo, pues la mayoría de los valores están en el extremo inferior (valores pequeños)."
   ]
  },
  {
   "cell_type": "markdown",
   "metadata": {
    "id": "2hJ4LzP3fgvy"
   },
   "source": [
    "8.\tEjecuta el siguiente código y comenta qué hace cada línea:"
   ]
  },
  {
   "cell_type": "code",
   "execution_count": 22,
   "metadata": {
    "id": "goQuWzNVfomA"
   },
   "outputs": [
    {
     "data": {
      "text/html": [
       "<div>\n",
       "<style scoped>\n",
       "    .dataframe tbody tr th:only-of-type {\n",
       "        vertical-align: middle;\n",
       "    }\n",
       "\n",
       "    .dataframe tbody tr th {\n",
       "        vertical-align: top;\n",
       "    }\n",
       "\n",
       "    .dataframe thead th {\n",
       "        text-align: right;\n",
       "    }\n",
       "</style>\n",
       "<table border=\"1\" class=\"dataframe\">\n",
       "  <thead>\n",
       "    <tr style=\"text-align: right;\">\n",
       "      <th></th>\n",
       "      <th></th>\n",
       "      <th></th>\n",
       "      <th></th>\n",
       "      <th>Value</th>\n",
       "    </tr>\n",
       "    <tr>\n",
       "      <th>Month</th>\n",
       "      <th>Day</th>\n",
       "      <th>Time</th>\n",
       "      <th>Species</th>\n",
       "      <th></th>\n",
       "    </tr>\n",
       "  </thead>\n",
       "  <tbody>\n",
       "    <tr>\n",
       "      <th rowspan=\"5\" valign=\"top\">01</th>\n",
       "      <th rowspan=\"5\" valign=\"top\">01</th>\n",
       "      <th>00:00</th>\n",
       "      <th>NO</th>\n",
       "      <td>3.5</td>\n",
       "    </tr>\n",
       "    <tr>\n",
       "      <th>01:00</th>\n",
       "      <th>NO</th>\n",
       "      <td>3.6</td>\n",
       "    </tr>\n",
       "    <tr>\n",
       "      <th>02:00</th>\n",
       "      <th>NO</th>\n",
       "      <td>2.2</td>\n",
       "    </tr>\n",
       "    <tr>\n",
       "      <th>03:00</th>\n",
       "      <th>NO</th>\n",
       "      <td>2.1</td>\n",
       "    </tr>\n",
       "    <tr>\n",
       "      <th>04:00</th>\n",
       "      <th>NO</th>\n",
       "      <td>3.3</td>\n",
       "    </tr>\n",
       "    <tr>\n",
       "      <th>...</th>\n",
       "      <th>...</th>\n",
       "      <th>...</th>\n",
       "      <th>...</th>\n",
       "      <td>...</td>\n",
       "    </tr>\n",
       "    <tr>\n",
       "      <th rowspan=\"5\" valign=\"top\">12</th>\n",
       "      <th rowspan=\"5\" valign=\"top\">31</th>\n",
       "      <th>19:00</th>\n",
       "      <th>PM2.5</th>\n",
       "      <td>-2.0</td>\n",
       "    </tr>\n",
       "    <tr>\n",
       "      <th>20:00</th>\n",
       "      <th>PM2.5</th>\n",
       "      <td>6.0</td>\n",
       "    </tr>\n",
       "    <tr>\n",
       "      <th>21:00</th>\n",
       "      <th>PM2.5</th>\n",
       "      <td>5.0</td>\n",
       "    </tr>\n",
       "    <tr>\n",
       "      <th>22:00</th>\n",
       "      <th>PM2.5</th>\n",
       "      <td>5.0</td>\n",
       "    </tr>\n",
       "    <tr>\n",
       "      <th>23:00</th>\n",
       "      <th>PM2.5</th>\n",
       "      <td>6.0</td>\n",
       "    </tr>\n",
       "  </tbody>\n",
       "</table>\n",
       "<p>43800 rows × 1 columns</p>\n",
       "</div>"
      ],
      "text/plain": [
       "                         Value\n",
       "Month Day Time  Species       \n",
       "01    01  00:00 NO         3.5\n",
       "          01:00 NO         3.6\n",
       "          02:00 NO         2.2\n",
       "          03:00 NO         2.1\n",
       "          04:00 NO         3.3\n",
       "...                        ...\n",
       "12    31  19:00 PM2.5     -2.0\n",
       "          20:00 PM2.5      6.0\n",
       "          21:00 PM2.5      5.0\n",
       "          22:00 PM2.5      5.0\n",
       "          23:00 PM2.5      6.0\n",
       "\n",
       "[43800 rows x 1 columns]"
      ]
     },
     "execution_count": 22,
     "metadata": {},
     "output_type": "execute_result"
    }
   ],
   "source": [
    "datetime_df = air_df.ReadingDateTime.str.split(' ',expand=True) # Dividir la columna ReadingDateTime usando el ' ' como delimitador y lo guarda como 'datetime_df'\n",
    "datetime_df.columns = ['Date','Time'] # Renombra las columnas de 'datetime_df' a 'Date' y 'Time'\n",
    "datetime_df # Imprime el DF\n",
    "date_df = datetime_df.Date.str.split('/',expand=True) # Divide la columna Date de 'datetime_df' usando el '/' como delimitador y lo guarda en 'date_df'\n",
    "date_df.columns = ['Day','Month','Year'] # Renombra las columnas a 'Day', 'Month' y 'Year'\n",
    "date_df # Imprime el DF\n",
    "air_df = air_df.join(date_df).join(datetime_df.Time).drop(columns=['ReadingDateTime','Year']) # Une el Dataframe original con date_df y datetime_df, y elimina las columnas 'ReadingDateTime' y 'Year'\n",
    "air_df = air_df.set_index(['Month','Day','Time','Species']) # Establece las columnas 'Month','Day','Time','Species' como indice\n",
    "air_df # Imprime el DF"
   ]
  },
  {
   "cell_type": "markdown",
   "metadata": {
    "id": "37E3dol8fpik"
   },
   "source": [
    "9. Ejecuta la siguiente instrucción y compara su salida con la del código anterior (ejercicio 8). ¿Son iguales?"
   ]
  },
  {
   "cell_type": "code",
   "execution_count": 23,
   "metadata": {
    "id": "cgbAxJrvfweW"
   },
   "outputs": [
    {
     "data": {
      "text/html": [
       "<div>\n",
       "<style scoped>\n",
       "    .dataframe tbody tr th:only-of-type {\n",
       "        vertical-align: middle;\n",
       "    }\n",
       "\n",
       "    .dataframe tbody tr th {\n",
       "        vertical-align: top;\n",
       "    }\n",
       "\n",
       "    .dataframe thead tr th {\n",
       "        text-align: left;\n",
       "    }\n",
       "\n",
       "    .dataframe thead tr:last-of-type th {\n",
       "        text-align: right;\n",
       "    }\n",
       "</style>\n",
       "<table border=\"1\" class=\"dataframe\">\n",
       "  <thead>\n",
       "    <tr>\n",
       "      <th></th>\n",
       "      <th></th>\n",
       "      <th></th>\n",
       "      <th colspan=\"5\" halign=\"left\">Value</th>\n",
       "    </tr>\n",
       "    <tr>\n",
       "      <th></th>\n",
       "      <th></th>\n",
       "      <th>Species</th>\n",
       "      <th>NO</th>\n",
       "      <th>NO2</th>\n",
       "      <th>NOX</th>\n",
       "      <th>PM10</th>\n",
       "      <th>PM2.5</th>\n",
       "    </tr>\n",
       "    <tr>\n",
       "      <th>Month</th>\n",
       "      <th>Day</th>\n",
       "      <th>Time</th>\n",
       "      <th></th>\n",
       "      <th></th>\n",
       "      <th></th>\n",
       "      <th></th>\n",
       "      <th></th>\n",
       "    </tr>\n",
       "  </thead>\n",
       "  <tbody>\n",
       "    <tr>\n",
       "      <th rowspan=\"5\" valign=\"top\">01</th>\n",
       "      <th rowspan=\"5\" valign=\"top\">01</th>\n",
       "      <th>00:00</th>\n",
       "      <td>3.5</td>\n",
       "      <td>30.8</td>\n",
       "      <td>36.2</td>\n",
       "      <td>35.7</td>\n",
       "      <td>NaN</td>\n",
       "    </tr>\n",
       "    <tr>\n",
       "      <th>01:00</th>\n",
       "      <td>3.6</td>\n",
       "      <td>31.5</td>\n",
       "      <td>37.0</td>\n",
       "      <td>28.5</td>\n",
       "      <td>NaN</td>\n",
       "    </tr>\n",
       "    <tr>\n",
       "      <th>02:00</th>\n",
       "      <td>2.2</td>\n",
       "      <td>27.3</td>\n",
       "      <td>30.7</td>\n",
       "      <td>22.7</td>\n",
       "      <td>NaN</td>\n",
       "    </tr>\n",
       "    <tr>\n",
       "      <th>03:00</th>\n",
       "      <td>2.1</td>\n",
       "      <td>23.5</td>\n",
       "      <td>26.8</td>\n",
       "      <td>20.5</td>\n",
       "      <td>NaN</td>\n",
       "    </tr>\n",
       "    <tr>\n",
       "      <th>04:00</th>\n",
       "      <td>3.3</td>\n",
       "      <td>28.0</td>\n",
       "      <td>33.0</td>\n",
       "      <td>22.1</td>\n",
       "      <td>NaN</td>\n",
       "    </tr>\n",
       "    <tr>\n",
       "      <th>...</th>\n",
       "      <th>...</th>\n",
       "      <th>...</th>\n",
       "      <td>...</td>\n",
       "      <td>...</td>\n",
       "      <td>...</td>\n",
       "      <td>...</td>\n",
       "      <td>...</td>\n",
       "    </tr>\n",
       "    <tr>\n",
       "      <th rowspan=\"5\" valign=\"top\">12</th>\n",
       "      <th rowspan=\"5\" valign=\"top\">31</th>\n",
       "      <th>19:00</th>\n",
       "      <td>0.7</td>\n",
       "      <td>17.5</td>\n",
       "      <td>18.5</td>\n",
       "      <td>16.3</td>\n",
       "      <td>-2.0</td>\n",
       "    </tr>\n",
       "    <tr>\n",
       "      <th>20:00</th>\n",
       "      <td>0.7</td>\n",
       "      <td>17.5</td>\n",
       "      <td>18.6</td>\n",
       "      <td>14.5</td>\n",
       "      <td>6.0</td>\n",
       "    </tr>\n",
       "    <tr>\n",
       "      <th>21:00</th>\n",
       "      <td>0.7</td>\n",
       "      <td>14.1</td>\n",
       "      <td>15.1</td>\n",
       "      <td>8.6</td>\n",
       "      <td>5.0</td>\n",
       "    </tr>\n",
       "    <tr>\n",
       "      <th>22:00</th>\n",
       "      <td>1.1</td>\n",
       "      <td>22.0</td>\n",
       "      <td>23.6</td>\n",
       "      <td>12.5</td>\n",
       "      <td>5.0</td>\n",
       "    </tr>\n",
       "    <tr>\n",
       "      <th>23:00</th>\n",
       "      <td>0.9</td>\n",
       "      <td>19.4</td>\n",
       "      <td>20.7</td>\n",
       "      <td>10.4</td>\n",
       "      <td>6.0</td>\n",
       "    </tr>\n",
       "  </tbody>\n",
       "</table>\n",
       "<p>8760 rows × 5 columns</p>\n",
       "</div>"
      ],
      "text/plain": [
       "                Value                        \n",
       "Species            NO   NO2   NOX  PM10 PM2.5\n",
       "Month Day Time                               \n",
       "01    01  00:00   3.5  30.8  36.2  35.7   NaN\n",
       "          01:00   3.6  31.5  37.0  28.5   NaN\n",
       "          02:00   2.2  27.3  30.7  22.7   NaN\n",
       "          03:00   2.1  23.5  26.8  20.5   NaN\n",
       "          04:00   3.3  28.0  33.0  22.1   NaN\n",
       "...               ...   ...   ...   ...   ...\n",
       "12    31  19:00   0.7  17.5  18.5  16.3  -2.0\n",
       "          20:00   0.7  17.5  18.6  14.5   6.0\n",
       "          21:00   0.7  14.1  15.1   8.6   5.0\n",
       "          22:00   1.1  22.0  23.6  12.5   5.0\n",
       "          23:00   0.9  19.4  20.7  10.4   6.0\n",
       "\n",
       "[8760 rows x 5 columns]"
      ]
     },
     "execution_count": 23,
     "metadata": {},
     "output_type": "execute_result"
    }
   ],
   "source": [
    "air_df.unstack()"
   ]
  },
  {
   "cell_type": "markdown",
   "metadata": {},
   "source": [
    "Los resultados no son iguales, en el primer código se genera un índice de mes, día, hora y especies, mientras que en el segundo resultado observamos que la columna Species se ha desglosado en varias columnas lo que facilita la comparación de las diversas categorías."
   ]
  },
  {
   "cell_type": "markdown",
   "metadata": {
    "id": "K1vWLX2ffxHV"
   },
   "source": [
    "10.\tExplica cuáles son las diferencias y similitudes entre el par `melt()/pivot()` y el par `stack()/unstack()`. Si tuvieras que elegir una contraparte para `melt()` entre `stack()/unstack()`, ¿cuál elegirías? ¿Por qué?"
   ]
  },
  {
   "cell_type": "markdown",
   "metadata": {},
   "source": [
    "La función `.unstack()` se aplica a una serie con un índice multinivel, produciendo un DataFrame en el cual las columnas corresponden al nivel externo del índice. Esta función desplaza el nivel exterior del índice multinivel a las columnas. Si el índice multinivel tiene solo dos niveles, tras ejecutar `.unstack()`, se convertirá en un índice de un solo nivel.\n",
    "\n",
    "El opuesto de `.unstack()` es `.stack()`, que desplaza el nivel externo de las columnas hacia el índice, convirtiéndolo en el nivel externo del índice multinivel.\n",
    "\n",
    "Por otro lado, la función `.melt()` transforma fácilmente un conjunto de datos del formato ancho al formato largo, mientras que la función `.pivot()` realiza la operación contraria, reformando un DataFrame desde el formato largo al formato ancho.\n",
    "\n",
    "Si tuviera que elegir una contraparte para `.melt()` sería  `.unstack()`, pues ambas comparten la idea de transformar un Dataframe a un formato más largo."
   ]
  },
  {
   "cell_type": "markdown",
   "metadata": {
    "id": "L0EtgOVIfzRd"
   },
   "source": []
  }
 ],
 "metadata": {
  "colab": {
   "provenance": []
  },
  "kernelspec": {
   "display_name": "Python 3 (ipykernel)",
   "language": "python",
   "name": "python3"
  },
  "language_info": {
   "codemirror_mode": {
    "name": "ipython",
    "version": 3
   },
   "file_extension": ".py",
   "mimetype": "text/x-python",
   "name": "python",
   "nbconvert_exporter": "python",
   "pygments_lexer": "ipython3",
   "version": "3.11.5"
  }
 },
 "nbformat": 4,
 "nbformat_minor": 1
}
